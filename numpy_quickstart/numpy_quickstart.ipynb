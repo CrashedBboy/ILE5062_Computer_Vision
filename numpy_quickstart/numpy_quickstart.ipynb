{
 "cells": [
  {
   "cell_type": "code",
   "execution_count": 1,
   "metadata": {},
   "outputs": [],
   "source": [
    "import numpy as np"
   ]
  },
  {
   "cell_type": "code",
   "execution_count": 49,
   "metadata": {},
   "outputs": [
    {
     "name": "stdout",
     "output_type": "stream",
     "text": [
      "arr value: \n",
      "[ 0  1  2  3  4  5  6  7  8  9 10 11 12 13 14]\n",
      "arr.dtype: int32, arr.itemsize: 4\n",
      "\n",
      "reshaped arr: \n",
      "[[ 0  1  2  3  4]\n",
      " [ 5  6  7  8  9]\n",
      " [10 11 12 13 14]]\n",
      "arr.dim: 2, arr.shape: (3, 5)\n",
      "\n",
      "zeros_arr: \n",
      "[[0. 0. 0.]\n",
      " [0. 0. 0.]]\n",
      "zeros_arr.dtype: float64\n",
      "\n",
      "ones_arr: \n",
      "[[1 1 1 1]\n",
      " [1 1 1 1]\n",
      " [1 1 1 1]]\n",
      "ones_arr.dtype: int32\n",
      "\n",
      "empty_arr: \n",
      "[[2.12199579e-314 2.12199579e-314 2.12199579e-314]\n",
      " [2.12199579e-314 2.12199579e-314 2.12199579e-314]]\n",
      "empty_arr.dtype: float64\n"
     ]
    }
   ],
   "source": [
    "# array creation and attributes\n",
    "\n",
    "arr = np.arange(15)\n",
    "print(\"arr value: \\n\" + str(arr) + \"\\n\" + \"arr.dtype: \" + str(arr.dtype) + \", arr.itemsize: \" + str(arr.itemsize) + \"\\n\")\n",
    "\n",
    "arr = np.reshape(arr, (3, 5))\n",
    "print(\"reshaped arr: \\n\" + str(arr) + \"\\n\" + \"arr.dim: \" + str(arr.ndim) + \", arr.shape: \" + str(arr.shape) + \"\\n\")\n",
    "\n",
    "zeros_arr = np.zeros((2,3))\n",
    "print(\"zeros_arr: \\n\" + str(zeros_arr) + \"\\n\" + \"zeros_arr.dtype: \" + str(zeros_arr.dtype) + \"\\n\")\n",
    "\n",
    "ones_arr = np.ones((3, 4), dtype=np.int32)\n",
    "print(\"ones_arr: \\n\" + str(ones_arr) + \"\\n\" + \"ones_arr.dtype: \" + str(ones_arr.dtype) + \"\\n\")\n",
    "\n",
    "empty_arr = np.empty((2, 3))\n",
    "print(\"empty_arr: \\n\" + str(empty_arr) + \"\\n\" + \"empty_arr.dtype: \" + str(empty_arr.dtype))"
   ]
  },
  {
   "cell_type": "code",
   "execution_count": 48,
   "metadata": {},
   "outputs": [
    {
     "name": "stdout",
     "output_type": "stream",
     "text": [
      "arr_a: [1 2 3 4]\n",
      "arr_b: [3.14159265 3.14159265 3.14159265 3.14159265]\n",
      "arr_a**2: [ 1  4  9 16]\n",
      "arr_a * arr_b: [ 3.14159265  6.28318531  9.42477796 12.56637061]\n"
     ]
    }
   ],
   "source": [
    "# array arithmetic operations\n",
    "\n",
    "# arithmetic operators on arrays apply elementwise\n",
    "\n",
    "arr_a = np.array([1, 2, 3, 4])\n",
    "arr_b = np.full(4, np.pi)\n",
    "print(\"arr_a: \" + str(arr_a))\n",
    "print(\"arr_b: \" + str(arr_b))\n",
    "\n",
    "print(\"arr_a**2: \" + str(arr_a**2))\n",
    "\n",
    "print(\"arr_a * arr_b: \" + str(arr_a * arr_b))"
   ]
  }
 ],
 "metadata": {
  "kernelspec": {
   "display_name": "Python 3",
   "language": "python",
   "name": "python3"
  },
  "language_info": {
   "codemirror_mode": {
    "name": "ipython",
    "version": 3
   },
   "file_extension": ".py",
   "mimetype": "text/x-python",
   "name": "python",
   "nbconvert_exporter": "python",
   "pygments_lexer": "ipython3",
   "version": "3.7.0"
  }
 },
 "nbformat": 4,
 "nbformat_minor": 2
}
